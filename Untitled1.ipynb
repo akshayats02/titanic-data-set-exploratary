{
 "cells": [
  {
   "cell_type": "code",
   "execution_count": null,
   "id": "b29d74e0-34f8-4bf5-b137-e4c8cb3cb41e",
   "metadata": {},
   "outputs": [],
   "source": []
  }
 ],
 "metadata": {
  "kernelspec": {
   "display_name": "",
   "name": ""
  },
  "language_info": {
   "name": ""
  }
 },
 "nbformat": 4,
 "nbformat_minor": 5
}
